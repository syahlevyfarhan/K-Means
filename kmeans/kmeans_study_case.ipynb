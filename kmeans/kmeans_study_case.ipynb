{
 "cells": [
  {
   "cell_type": "code",
   "execution_count": null,
   "id": "cbb067e3",
   "metadata": {},
   "outputs": [],
   "source": [
    "import pandas as pd\n",
    "import matplotlib.pyplot as plt\n",
    "from sklearn.cluster import KMeans\n",
    "from sklearn.preprocessing import StandardScaler"
   ]
  },
  {
   "cell_type": "code",
   "execution_count": null,
   "id": "cd0edcd3",
   "metadata": {},
   "outputs": [],
   "source": [
    "# Load file CSV\n",
    "file_path = \"Jumlah Korban Manusia yang Diakibatkan Bencana Alam Menurut Provinsi, 2016.csv\"\n",
    "df = pd.read_csv(file_path)\n",
    "\n",
    "# Tampilkan 10 baris pertama untuk melihat struktur\n",
    "df.head(10)"
   ]
  },
  {
   "cell_type": "code",
   "execution_count": null,
   "id": "98784afc",
   "metadata": {},
   "outputs": [],
   "source": [
    "# Ambil nama provinsi dari kolom ke-1 mulai baris ke-4\n",
    "df_clean = df.iloc[3:].copy()\n",
    "df_clean.columns = [\"Provinsi\", \"Meninggal\", \"Luka_Sakit\", \"Hilang\"]\n",
    "df_clean.reset_index(drop=True, inplace=True)\n",
    "\n",
    "# Konversi data ke numerik\n",
    "df_clean[\"Meninggal\"] = pd.to_numeric(df_clean[\"Meninggal\"], errors=\"coerce\")\n",
    "df_clean[\"Luka_Sakit\"] = pd.to_numeric(df_clean[\"Luka_Sakit\"], errors=\"coerce\")\n",
    "df_clean[\"Hilang\"] = pd.to_numeric(df_clean[\"Hilang\"], errors=\"coerce\")\n",
    "\n",
    "# Drop baris yang mengandung NaN\n",
    "df_clean.dropna(inplace=True)\n",
    "df_clean.head()\n"
   ]
  },
  {
   "cell_type": "code",
   "execution_count": null,
   "id": "d0aeb1b4",
   "metadata": {},
   "outputs": [],
   "source": [
    "# Ambil fitur numerik untuk clustering\n",
    "X = df_clean[[\"Meninggal\", \"Luka_Sakit\", \"Hilang\"]]\n",
    "\n",
    "# Normalisasi\n",
    "scaler = StandardScaler()\n",
    "X_scaled = scaler.fit_transform(X)\n"
   ]
  },
  {
   "cell_type": "code",
   "execution_count": null,
   "id": "c65b42ac",
   "metadata": {},
   "outputs": [],
   "source": [
    "wcss = []\n",
    "for i in range(1, 11):\n",
    "    kmeans = KMeans(n_clusters=i, random_state=42)\n",
    "    kmeans.fit(X_scaled)\n",
    "    wcss.append(kmeans.inertia_)\n",
    "\n",
    "# Visualisasi metode elbow\n",
    "plt.plot(range(1, 11), wcss, marker='o')\n",
    "plt.title('Metode Elbow untuk Menentukan Jumlah Cluster')\n",
    "plt.xlabel('Jumlah Cluster')\n",
    "plt.ylabel('WCSS')\n",
    "plt.grid(True)\n",
    "plt.show()\n"
   ]
  },
  {
   "cell_type": "code",
   "execution_count": null,
   "id": "dddad196",
   "metadata": {},
   "outputs": [],
   "source": [
    "# Misalnya pilih 3 cluster\n",
    "kmeans = KMeans(n_clusters=3, random_state=42)\n",
    "df_clean[\"Cluster\"] = kmeans.fit_predict(X_scaled)\n",
    "\n",
    "# Lihat hasil cluster\n",
    "df_clean\n"
   ]
  },
  {
   "cell_type": "code",
   "execution_count": null,
   "id": "32225535",
   "metadata": {},
   "outputs": [],
   "source": [
    "plt.figure(figsize=(8,6))\n",
    "colors = ['red', 'green', 'blue']\n",
    "\n",
    "for cluster in range(3):\n",
    "    clustered = df_clean[df_clean[\"Cluster\"] == cluster]\n",
    "    plt.scatter(clustered[\"Luka_Sakit\"], clustered[\"Meninggal\"],\n",
    "                color=colors[cluster], label=f'Cluster {cluster}')\n",
    "\n",
    "plt.xlabel(\"Luka/Sakit\")\n",
    "plt.ylabel(\"Meninggal Dunia\")\n",
    "plt.title(\"Visualisasi Cluster Provinsi berdasarkan Jumlah Korban\")\n",
    "plt.legend()\n",
    "plt.grid(True)\n",
    "plt.show()\n"
   ]
  }
 ],
 "metadata": {
  "kernelspec": {
   "display_name": ".venv",
   "language": "python",
   "name": "python3"
  },
  "language_info": {
   "name": "python",
   "version": "3.11.9"
  }
 },
 "nbformat": 4,
 "nbformat_minor": 5
}
